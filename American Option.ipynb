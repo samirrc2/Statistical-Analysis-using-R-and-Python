{
 "cells": [
  {
   "cell_type": "code",
   "execution_count": 1,
   "metadata": {},
   "outputs": [],
   "source": [
    "import pandas as pd\n",
    "import numpy as np\n",
    "\n",
    "def BinomialTree (type,S0, K, r, sigma, T, N=2000,american=\"false\"):\n",
    "\n",
    "    #calculate delta T    \n",
    "    deltaT = float(T) / N\n",
    "\n",
    "    # up and down factor will be constant for the tree so we calculate outside the loop\n",
    "    u = np.exp(sigma * np.sqrt(deltaT))\n",
    "    d = 1.0 / u\n",
    "\n",
    "    #initializing array\n",
    "    fs =  np.asarray([0.0 for i in range(N + 1)])\n",
    "\n",
    "    #stock values values at expiration \n",
    "    fs2 = np.asarray([(S0 * u**j * d**(N - j)) for j in range(N + 1)])\n",
    "\n",
    "    #we vectorize the strikes as well so the expiration check will be faster\n",
    "    fs3 =np.asarray( [float(K) for i in range(N + 1)])\n",
    "\n",
    "    #uptick and downtick probabilties \n",
    "    a = np.exp(r * deltaT)\n",
    "    p = (a - d)/ (u - d)\n",
    "    oneMinusP = 1.0 - p\n",
    "\n",
    "\n",
    "    # Compute the leaves, f_{N, j}\n",
    "    if type ==\"C\":\n",
    "        fs[:] = np.maximum(fs2-fs3, 0.0)\n",
    "    else:\n",
    "        fs[:] = np.maximum(-fs2+fs3, 0.0)\n",
    "\n",
    "\n",
    "    #calculate backward the option prices\n",
    "    for i in range(N-1, -1, -1):\n",
    "       fs[:-1]=np.exp(-r * deltaT) * (p * fs[1:] + oneMinusP * fs[:-1])\n",
    "       fs2[:]=fs2[:]*u\n",
    "\n",
    "       if american=='true':\n",
    "           #Simply check if the option is worth more alive or dead\n",
    "           if type ==\"C\":\n",
    "                fs[:]=np.maximum(fs[:],fs2[:]-fs3[:])\n",
    "           else:\n",
    "                fs[:]=np.maximum(fs[:],-fs2[:]+fs3[:])\n",
    "\n",
    "    # print fs\n",
    "    return fs[0]"
   ]
  },
  {
   "cell_type": "code",
   "execution_count": 2,
   "metadata": {},
   "outputs": [
    {
     "name": "stdout",
     "output_type": "stream",
     "text": [
      "8.92498687278143\n"
     ]
    }
   ],
   "source": [
    "print (BinomialTree(\"C\",55,50,0.08,0.1,T=1,american=\"true\"))"
   ]
  },
  {
   "cell_type": "code",
   "execution_count": null,
   "metadata": {},
   "outputs": [],
   "source": []
  }
 ],
 "metadata": {
  "kernelspec": {
   "display_name": "Python 3",
   "language": "python",
   "name": "python3"
  },
  "language_info": {
   "codemirror_mode": {
    "name": "ipython",
    "version": 3
   },
   "file_extension": ".py",
   "mimetype": "text/x-python",
   "name": "python",
   "nbconvert_exporter": "python",
   "pygments_lexer": "ipython3",
   "version": "3.6.5"
  }
 },
 "nbformat": 4,
 "nbformat_minor": 2
}
