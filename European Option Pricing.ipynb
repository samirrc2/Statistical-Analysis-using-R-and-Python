{
 "cells": [
  {
   "cell_type": "code",
   "execution_count": 67,
   "metadata": {},
   "outputs": [],
   "source": [
    "import numpy as np\n",
    "from random import gauss\n",
    "from scipy.stats import norm\n",
    "import scipy.misc\n",
    "import math\n",
    "\n",
    "class European:\n",
    "    '''\n",
    "    S: current stock price\n",
    "    X: strike price\n",
    "    r: risk-free rate\n",
    "    sigma: volatility\n",
    "    T: Time until maturity (in years)\n",
    "    d: dividend yield (default assumption is 0)\n",
    "    '''\n",
    "\n",
    "    def __init__(self, S, X, r, sigma, T, d = 0):\n",
    "        self.X = X\n",
    "        self.S = float(S)\n",
    "        self.r = r\n",
    "        self.sigma = sigma\n",
    "        self.T = T\n",
    "        self.d = d\n",
    "        self.b = self.r - self.d\n",
    "\n",
    "    #MonteCarlo Pricing\n",
    "    def MonteCarlo(self, option):\n",
    "        if option.lower() == \"call\":\n",
    "            simulations = 100000\n",
    "            disc_factor = np.exp(-self.r * self.T)\n",
    "            payoffs = []\n",
    "            for i in range(simulations):\n",
    "                S_t = self.S * np.exp((self.r - 0.5 * self.sigma**2) * self.T + self.sigma * np.sqrt(self.T) * gauss(0,1.0))\n",
    "                payoffs.append(max(0.0, S_t - self.X))\n",
    "            return disc_factor * (sum(payoffs) / float(simulations))\n",
    "        elif option.lower() == \"put\":\n",
    "            simulations = 100000\n",
    "            disc_factor = np.exp(-self.r * self.T)\n",
    "            payoffs = []\n",
    "            for i in range(simulations):\n",
    "                S_t = self.S * np.exp((self.r - 0.5 * self.sigma**2) * self.T + self.sigma * np.sqrt(self.T) * gauss(0,1.0))\n",
    "                payoffs.append(max(0.0,self.X - S_t))\n",
    "            return disc_factor * (sum(payoffs) / float(simulations))\n",
    "        else:\n",
    "            return \"Invalid data\"\n",
    "\n",
    "    # BlackScholes Pricing\n",
    "    def BlackScholes(self, option):\n",
    "        d1 = (np.log(self.S/self.X) + ((self.r-self.d) + ((self.sigma**2)*0.5))*self.T) / (self.sigma*np.sqrt(self.T))\n",
    "        d2 = d1 - self.sigma*np.sqrt(self.T)\n",
    "        if option.lower() == \"call\":\n",
    "            return self.S * np.exp(-self.d*self.T) * norm.cdf(d1) - self.X * np.exp(-self.r*self.T) * norm.cdf(d2)\n",
    "        elif option.lower() == \"put\":\n",
    "            return self.X * np.exp(-self.r*self.T) * norm.cdf(-d2) - self.S * np.exp(-self.d*self.T) * norm.cdf(-d1)\n",
    "        else:\n",
    "            return \"Invalid data\"\n",
    "\n",
    "    def binomial(self, option):\n",
    "        N = 100\n",
    "        dt = self.T/N\n",
    "        u =  math.exp(self.sigma * math.sqrt(dt))\n",
    "        d = 1/u\n",
    "        p = (math.exp(self.r * dt) - d)/(u - d)\n",
    "        C = {}\n",
    "        P = {}\n",
    "        \n",
    "        if option.lower() == \"call\":\n",
    "            for m in range(0, N+1):\n",
    "                    C[(N, m)] = max(self.S * (u ** (2*m - N)) - self.X, 0)\n",
    "            for self.X in range(N-1, -1, -1):\n",
    "                for m in range(0,self.X+1):\n",
    "                    C[(self.X, m)] = math.exp(-self.r * dt) * (p * C[(self.X+1, m+1)] + (1-p) * C[(self.X+1, m)])\n",
    "            return C[(0,0)]\n",
    "        \n",
    "        if option.lower() == \"put\":\n",
    "            for m in range(0, N+1):\n",
    "                    P[(N, m)] = max(self.X - self.S * (u ** (2*m - N)), 0)\n",
    "            for self.X in range(N-1, -1, -1):\n",
    "                for m in range(0,self.X+1):\n",
    "                    P[(self.X, m)] = math.exp(-self.r * dt) * (p * P[(self.X+1, m+1)] + (1-p) * P[(self.X+1, m)])\n",
    "            return P[(0,0)]"
   ]
  },
  {
   "cell_type": "code",
   "execution_count": 74,
   "metadata": {},
   "outputs": [],
   "source": [
    "Test = European (55, 50, 0.08, 0.10,1)"
   ]
  },
  {
   "cell_type": "code",
   "execution_count": 75,
   "metadata": {},
   "outputs": [
    {
     "data": {
      "text/plain": [
       "0.08035286625959709"
      ]
     },
     "execution_count": 75,
     "metadata": {},
     "output_type": "execute_result"
    }
   ],
   "source": [
    "Test.MonteCarlo(\"put\")"
   ]
  },
  {
   "cell_type": "code",
   "execution_count": 70,
   "metadata": {},
   "outputs": [
    {
     "data": {
      "text/plain": [
       "0.08078989140076454"
      ]
     },
     "execution_count": 70,
     "metadata": {},
     "output_type": "execute_result"
    }
   ],
   "source": [
    "Test.BlackScholes('put')"
   ]
  },
  {
   "cell_type": "code",
   "execution_count": 71,
   "metadata": {},
   "outputs": [
    {
     "data": {
      "text/plain": [
       "0.08088654060590277"
      ]
     },
     "execution_count": 71,
     "metadata": {},
     "output_type": "execute_result"
    }
   ],
   "source": [
    "Test.binomial('put')"
   ]
  },
  {
   "cell_type": "code",
   "execution_count": 57,
   "metadata": {},
   "outputs": [],
   "source": []
  },
  {
   "cell_type": "code",
   "execution_count": null,
   "metadata": {},
   "outputs": [],
   "source": []
  },
  {
   "cell_type": "code",
   "execution_count": null,
   "metadata": {
    "scrolled": true
   },
   "outputs": [],
   "source": []
  },
  {
   "cell_type": "code",
   "execution_count": null,
   "metadata": {
    "scrolled": true
   },
   "outputs": [],
   "source": []
  },
  {
   "cell_type": "code",
   "execution_count": null,
   "metadata": {},
   "outputs": [],
   "source": []
  }
 ],
 "metadata": {
  "kernelspec": {
   "display_name": "Python 3",
   "language": "python",
   "name": "python3"
  },
  "language_info": {
   "codemirror_mode": {
    "name": "ipython",
    "version": 3
   },
   "file_extension": ".py",
   "mimetype": "text/x-python",
   "name": "python",
   "nbconvert_exporter": "python",
   "pygments_lexer": "ipython3",
   "version": "3.6.5"
  }
 },
 "nbformat": 4,
 "nbformat_minor": 2
}
